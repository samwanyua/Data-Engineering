{
 "cells": [
  {
   "cell_type": "code",
   "execution_count": null,
   "metadata": {},
   "outputs": [
    {
     "name": "stdout",
     "output_type": "stream",
     "text": [
      "Hello\n"
     ]
    }
   ],
   "source": [
    "from airflow import DAG\n",
    "from airflow.operators.python import PythonOperator\n",
    "from datetime import datetime\n",
    "\n",
    "def say_hello():\n",
    "    print(\"Hello from Airflow!\")\n",
    "\n",
    "with DAG(\n",
    "    dag_id='hello_world_dag',\n",
    "    start_date=datetime(2025, 1, 1),\n",
    "    schedule_interval='@daily',\n",
    "    catchup=False,\n",
    "    tags=['example']\n",
    ") as dag:\n",
    "    \n",
    "    hello_task = PythonOperator(\n",
    "        task_id='say_hello',\n",
    "        python_callable=say_hello\n",
    "    )\n"
   ]
  },
  {
   "cell_type": "code",
   "execution_count": null,
   "metadata": {},
   "outputs": [],
   "source": []
  }
 ],
 "metadata": {
  "kernelspec": {
   "display_name": "env",
   "language": "python",
   "name": "python3"
  },
  "language_info": {
   "codemirror_mode": {
    "name": "ipython",
    "version": 3
   },
   "file_extension": ".py",
   "mimetype": "text/x-python",
   "name": "python",
   "nbconvert_exporter": "python",
   "pygments_lexer": "ipython3",
   "version": "3.8.10"
  }
 },
 "nbformat": 4,
 "nbformat_minor": 2
}
