{
 "cells": [
  {
   "cell_type": "code",
   "execution_count": 4,
   "metadata": {},
   "outputs": [
    {
     "ename": "ModuleNotFoundError",
     "evalue": "No module named 'airflow'",
     "output_type": "error",
     "traceback": [
      "\u001b[0;31m---------------------------------------------------------------------------\u001b[0m",
      "\u001b[0;31mModuleNotFoundError\u001b[0m                       Traceback (most recent call last)",
      "Cell \u001b[0;32mIn[4], line 1\u001b[0m\n\u001b[0;32m----> 1\u001b[0m \u001b[38;5;28;01mfrom\u001b[39;00m\u001b[38;5;250m \u001b[39m\u001b[38;5;21;01mairflow\u001b[39;00m\u001b[38;5;250m \u001b[39m\u001b[38;5;28;01mimport\u001b[39;00m DAG\n\u001b[1;32m      2\u001b[0m \u001b[38;5;28;01mfrom\u001b[39;00m\u001b[38;5;250m \u001b[39m\u001b[38;5;21;01mairflow\u001b[39;00m\u001b[38;5;21;01m.\u001b[39;00m\u001b[38;5;21;01moperators\u001b[39;00m\u001b[38;5;21;01m.\u001b[39;00m\u001b[38;5;21;01mpython\u001b[39;00m\u001b[38;5;250m \u001b[39m\u001b[38;5;28;01mimport\u001b[39;00m PythonOperator\n\u001b[1;32m      3\u001b[0m \u001b[38;5;28;01mfrom\u001b[39;00m\u001b[38;5;250m \u001b[39m\u001b[38;5;21;01mdatetime\u001b[39;00m\u001b[38;5;250m \u001b[39m\u001b[38;5;28;01mimport\u001b[39;00m datetime\n",
      "\u001b[0;31mModuleNotFoundError\u001b[0m: No module named 'airflow'"
     ]
    }
   ],
   "source": [
    "from airflow import DAG\n",
    "from airflow.operators.python import PythonOperator\n",
    "from datetime import datetime\n",
    "\n",
    "def say_hello():\n",
    "    print(\"Hello from Airflow!\")\n",
    "\n",
    "with DAG(\n",
    "    dag_id='hello_world_dag',\n",
    "    start_date=datetime(2025, 1, 1),\n",
    "    schedule_interval='@daily',\n",
    "    catchup=False,\n",
    "    tags=['example']\n",
    ") as dag:\n",
    "    \n",
    "    hello_task = PythonOperator(\n",
    "        task_id='say_hello',\n",
    "        python_callable=say_hello\n",
    "    )\n"
   ]
  },
  {
   "cell_type": "code",
   "execution_count": null,
   "metadata": {},
   "outputs": [],
   "source": [
    "from airflow import DAG\n",
    "from airflow.operators.python import PythonOperator\n",
    "from datetime import datetime\n",
    "\n",
    "def extract():\n",
    "    print(\"Extracting data...\")\n",
    "\n",
    "def transform():\n",
    "    print(\"Transforming data...\")\n",
    "\n",
    "def load():\n",
    "    print(\"Loading data...\")\n",
    "\n",
    "with DAG(\n",
    "    dag_id='simple_etl_pipeline',\n",
    "    start_date=datetime(2025, 1, 1),\n",
    "    schedule_interval='@daily',\n",
    "    catchup=False,\n",
    "    tags=['etl']\n",
    ") as dag:\n",
    "    \n",
    "    extract_task = PythonOperator(\n",
    "        task_id='extract',\n",
    "        python_callable=extract\n",
    "    )\n",
    "\n",
    "    transform_task = PythonOperator(\n",
    "        task_id='transform',\n",
    "        python_callable=transform\n",
    "    )\n",
    "\n",
    "    load_task = PythonOperator(\n",
    "        task_id='load',\n",
    "        python_callable=load\n",
    "    )\n",
    "\n",
    "    extract_task >> transform_task >> load_task\n"
   ]
  },
  {
   "cell_type": "code",
   "execution_count": null,
   "metadata": {},
   "outputs": [],
   "source": [
    "from airflow import DAG\n",
    "from airflow.operators.bash import BashOperator\n",
    "from datetime import datetime\n",
    "\n",
    "with DAG(\n",
    "    dag_id='bash_task_example',\n",
    "    start_date=datetime(2025, 1, 1),\n",
    "    schedule_interval='@hourly',\n",
    "    catchup=False,\n",
    "    tags=['bash']\n",
    ") as dag:\n",
    "\n",
    "    bash_task = BashOperator(\n",
    "        task_id='print_date',\n",
    "        bash_command='date'\n",
    "    )\n"
   ]
  }
 ],
 "metadata": {
  "kernelspec": {
   "display_name": "env",
   "language": "python",
   "name": "python3"
  },
  "language_info": {
   "codemirror_mode": {
    "name": "ipython",
    "version": 3
   },
   "file_extension": ".py",
   "mimetype": "text/x-python",
   "name": "python",
   "nbconvert_exporter": "python",
   "pygments_lexer": "ipython3",
   "version": "3.8.10"
  }
 },
 "nbformat": 4,
 "nbformat_minor": 2
}
